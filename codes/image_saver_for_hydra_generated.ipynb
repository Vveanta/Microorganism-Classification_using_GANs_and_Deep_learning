{
  "nbformat": 4,
  "nbformat_minor": 0,
  "metadata": {
    "colab": {
      "provenance": []
    },
    "kernelspec": {
      "name": "python3",
      "display_name": "Python 3"
    },
    "language_info": {
      "name": "python"
    }
  },
  "cells": [
    {
      "cell_type": "code",
      "source": [
        "\n",
        "import numpy as np\n",
        "from keras.models import load_model\n",
        "from PIL import Image\n",
        "import os\n",
        "from google.colab import drive\n",
        "drive.mount('/content/drive')"
      ],
      "metadata": {
        "id": "27mOJLtXt5bW",
        "colab": {
          "base_uri": "https://localhost:8080/"
        },
        "outputId": "c4a84ef7-12bc-4fd9-f6f3-23f26d6e1c41"
      },
      "execution_count": 1,
      "outputs": [
        {
          "output_type": "stream",
          "name": "stdout",
          "text": [
            "Mounted at /content/drive\n"
          ]
        }
      ]
    },
    {
      "cell_type": "code",
      "source": [
        "\n",
        "os.makedirs('images_gen_nah/', exist_ok=True)\n",
        "h5_file_path = '/content/drive/MyDrive/ramsact/Micro-research/hydra_generator_30kepochs.h5'\n",
        "# Load the generator model from the saved h5 file\n",
        "generator = load_model(h5_file_path)\n",
        "\n",
        "# Set the number of images to generate\n",
        "num_images = 100\n",
        "\n",
        "\n",
        "# Generate random input for the generator\n",
        "noise = np.random.normal(0, 1, (num_images, 100))\n",
        "\n",
        "# Generate fake images\n",
        "fake_images = generator.predict(noise)\n",
        "\n",
        "# Scale the pixel values from [-1, 1] to [0, 255]\n",
        "fake_images = 0.5 * fake_images + 0.5\n",
        "\n",
        "# Convert the pixel values to integers in the range [0, 255]\n",
        "fake_images = (fake_images * 255).astype(np.uint8)\n"
      ],
      "metadata": {
        "id": "zBefIqORsLG9",
        "colab": {
          "base_uri": "https://localhost:8080/"
        },
        "outputId": "dc416c4c-1a63-402a-8d3d-9a324b193923"
      },
      "execution_count": 2,
      "outputs": [
        {
          "output_type": "stream",
          "name": "stderr",
          "text": [
            "WARNING:tensorflow:Error in loading the saved optimizer state. As a result, your model is starting with a freshly initialized optimizer.\n"
          ]
        },
        {
          "output_type": "stream",
          "name": "stdout",
          "text": [
            "4/4 [==============================] - 1s 77ms/step\n"
          ]
        }
      ]
    },
    {
      "cell_type": "code",
      "execution_count": 3,
      "metadata": {
        "id": "TkM3g-3deHP2"
      },
      "outputs": [],
      "source": [
        "\n",
        "output_dir=\"/content/images_gen\"\n",
        "# Save the generated images\n",
        "for i in range(num_images):\n",
        "    image = fake_images[i]\n",
        "    filename = os.path.join(output_dir, f'fake_image_{i+1}.jpg')\n",
        "    Image.fromarray(image).save(filename,'JPEG')\n"
      ]
    },
    {
      "cell_type": "code",
      "source": [
        "import zipfile\n",
        "import os\n",
        "\n",
        "folder_path = '/content/images_gen'\n",
        "output_path = '/content/images_gen.zip'\n",
        "\n",
        "# Check if the given folder exists\n",
        "if not os.path.exists(folder_path):\n",
        "    print(f\"Folder '{folder_path}' does not exist.\")\n",
        "else:\n",
        "    # Create a zip file\n",
        "    with zipfile.ZipFile(output_path, 'w', zipfile.ZIP_DEFLATED) as zipf:\n",
        "        # Iterate over all files and subdirectories in the given folder\n",
        "        for root, _, files in os.walk(folder_path):\n",
        "            for file in files:\n",
        "                # Get the full path of the file\n",
        "                file_path = os.path.join(root, file)\n",
        "\n",
        "                # Add the file to the zip archive\n",
        "                zipf.write(file_path, os.path.relpath(file_path, folder_path))\n",
        "\n",
        "    print(f\"Folder '{folder_path}' zipped successfully to '{output_path}'.\")\n",
        "\n"
      ],
      "metadata": {
        "id": "FrO-pcD6or2T",
        "colab": {
          "base_uri": "https://localhost:8080/"
        },
        "outputId": "8e9a3ec4-8037-41d7-be7d-86c95e5fefda"
      },
      "execution_count": 5,
      "outputs": [
        {
          "output_type": "stream",
          "name": "stdout",
          "text": [
            "Folder '/content/images_gen_nah' zipped successfully to '/content/images_gen_nah.zip'.\n"
          ]
        }
      ]
    },
    {
      "cell_type": "code",
      "source": [
        "# import os\n",
        "# import matplotlib.pyplot as plt\n",
        "# def save_imgs(i):\n",
        "#     r, c = 3, 3\n",
        "#     noise = np.random.normal(0, 1, (r * c, 100))\n",
        "#     gen_imgs = generator.predict(noise)\n",
        "\n",
        "#     # Rescale images 0 - 1\n",
        "#     gen_imgs = 0.5 * gen_imgs + 0.5\n",
        "#     # Create the 'images/' directory if it doesn't exist\n",
        "#     os.makedirs('images_do/', exist_ok=True)\n",
        "#     fig, axs = plt.subplots(r, c)\n",
        "#     cnt = 0\n",
        "#     for i in range(r):\n",
        "#         for j in range(c):\n",
        "#             # axs[i,j].imshow(gen_imgs[cnt, :,:,0], )\n",
        "#             axs[i,j].imshow(gen_imgs[cnt])\n",
        "#             axs[i,j].axis('off')\n",
        "#             cnt += 1\n",
        "#     fig.savefig(\"images_do/Generate_%d.png\" % i)\n",
        "#     plt.close()"
      ],
      "metadata": {
        "id": "L1cyzenpWb2b"
      },
      "execution_count": 8,
      "outputs": []
    },
    {
      "cell_type": "code",
      "source": [
        "\n",
        "# for epoch in range(7):\n",
        "#   save_imgs(epoch)"
      ],
      "metadata": {
        "colab": {
          "base_uri": "https://localhost:8080/"
        },
        "id": "nkD8NvlUW4ii",
        "outputId": "2c033a2f-96df-4111-b284-3c50d08837de"
      },
      "execution_count": null,
      "outputs": [
        {
          "output_type": "stream",
          "name": "stdout",
          "text": [
            "1/1 [==============================] - 0s 95ms/step\n",
            "1/1 [==============================] - 0s 104ms/step\n",
            "1/1 [==============================] - 0s 101ms/step\n",
            "1/1 [==============================] - 0s 72ms/step\n",
            "1/1 [==============================] - 0s 72ms/step\n",
            "1/1 [==============================] - 0s 71ms/step\n",
            "1/1 [==============================] - 0s 127ms/step\n"
          ]
        }
      ]
    },
    {
      "cell_type": "code",
      "source": [
        "# import os\n",
        "# def save_imgs(epoch):\n",
        "#     r, c = 4, 4\n",
        "#     noise = np.random.normal(0, 1, (r * c, 100))\n",
        "#     gen_imgs = generator.predict(noise)\n",
        "\n",
        "#     # Rescale images 0 - 1\n",
        "#     gen_imgs = 0.5 * gen_imgs + 0.5\n",
        "#     # Create the 'images/' directory if it doesn't exist\n",
        "#     os.makedirs('images_do/', exist_ok=True)\n",
        "#     fig, axs = plt.subplots(r, c)\n",
        "#     cnt = 0\n",
        "#     for i in range(r):\n",
        "#         for j in range(c):\n",
        "#             # axs[i,j].imshow(gen_imgs[cnt, :,:,0], )\n",
        "#             axs[i,j].imshow(gen_imgs[cnt])\n",
        "#             axs[i,j].axis('off')\n",
        "#             cnt += 1\n",
        "#     fig.savefig(\"images_do/mnist_%d.png\" % epoch)\n",
        "#     plt.close()"
      ],
      "metadata": {
        "id": "fG6B3Z9IXAUv"
      },
      "execution_count": 9,
      "outputs": []
    },
    {
      "cell_type": "code",
      "source": [
        "# save_imgs(5)"
      ],
      "metadata": {
        "colab": {
          "base_uri": "https://localhost:8080/"
        },
        "id": "Oi6axf5QXtJU",
        "outputId": "444a7329-391e-407a-a0f4-e072f43bb1c3"
      },
      "execution_count": 10,
      "outputs": [
        {
          "output_type": "stream",
          "name": "stdout",
          "text": [
            "1/1 [==============================] - 0s 109ms/step\n"
          ]
        }
      ]
    }
  ]
}