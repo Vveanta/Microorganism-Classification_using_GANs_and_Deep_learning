{
 "cells": [
  {
   "cell_type": "code",
   "execution_count": 1,
   "id": "b0225f69",
   "metadata": {
    "_cell_guid": "b1076dfc-b9ad-4769-8c92-a6c4dae69d19",
    "_uuid": "8f2839f25d086af736a60e9eeb907d3b93b6e0e5",
    "execution": {
     "iopub.execute_input": "2023-07-06T07:16:34.869313Z",
     "iopub.status.busy": "2023-07-06T07:16:34.868907Z",
     "iopub.status.idle": "2023-07-06T07:16:37.333814Z",
     "shell.execute_reply": "2023-07-06T07:16:37.332318Z"
    },
    "papermill": {
     "duration": 2.476224,
     "end_time": "2023-07-06T07:16:37.336842",
     "exception": false,
     "start_time": "2023-07-06T07:16:34.860618",
     "status": "completed"
    },
    "tags": []
   },
   "outputs": [],
   "source": [
    "import numpy as np\n",
    "from sklearn.ensemble import AdaBoostClassifier\n",
    "import xgboost as xgb\n",
    "from sklearn.tree import DecisionTreeClassifier\n",
    "from sklearn.model_selection import train_test_split\n",
    "from sklearn.metrics import accuracy_score, classification_report,f1_score\n",
    "from sklearn.preprocessing import LabelEncoder\n",
    "import glob\n",
    "import cv2\n"
   ]
  },
  {
   "cell_type": "code",
   "execution_count": 2,
   "id": "ea571436",
   "metadata": {
    "execution": {
     "iopub.execute_input": "2023-07-06T07:16:37.347935Z",
     "iopub.status.busy": "2023-07-06T07:16:37.347509Z",
     "iopub.status.idle": "2023-07-06T07:16:37.353490Z",
     "shell.execute_reply": "2023-07-06T07:16:37.352157Z"
    },
    "papermill": {
     "duration": 0.015036,
     "end_time": "2023-07-06T07:16:37.356475",
     "exception": false,
     "start_time": "2023-07-06T07:16:37.341439",
     "status": "completed"
    },
    "tags": []
   },
   "outputs": [],
   "source": [
    "# Set the path to your dataset directory\n",
    "dataset_path = '/kaggle/input/hydra-paramecium-dataset/micro-dataset'"
   ]
  },
  {
   "cell_type": "code",
   "execution_count": 3,
   "id": "26282268",
   "metadata": {
    "execution": {
     "iopub.execute_input": "2023-07-06T07:16:37.367807Z",
     "iopub.status.busy": "2023-07-06T07:16:37.367353Z",
     "iopub.status.idle": "2023-07-06T07:16:37.376644Z",
     "shell.execute_reply": "2023-07-06T07:16:37.375673Z"
    },
    "papermill": {
     "duration": 0.018015,
     "end_time": "2023-07-06T07:16:37.379502",
     "exception": false,
     "start_time": "2023-07-06T07:16:37.361487",
     "status": "completed"
    },
    "tags": []
   },
   "outputs": [],
   "source": [
    "# Function to load and preprocess images\n",
    "def load_images(file_paths):\n",
    "    images = []\n",
    "    for path in file_paths:\n",
    "        image = cv2.imread(path)\n",
    "        if image is not None:\n",
    "            image = cv2.resize(image, (128, 128))  # Resize the images to 128x128 pixels\n",
    "            images.append(image)\n",
    "        else:\n",
    "            print(f\"Unable to load image: {path}\")\n",
    "    return images"
   ]
  },
  {
   "cell_type": "code",
   "execution_count": 4,
   "id": "cfdc7761",
   "metadata": {
    "execution": {
     "iopub.execute_input": "2023-07-06T07:16:37.393006Z",
     "iopub.status.busy": "2023-07-06T07:16:37.392278Z",
     "iopub.status.idle": "2023-07-06T07:16:37.398530Z",
     "shell.execute_reply": "2023-07-06T07:16:37.397312Z"
    },
    "papermill": {
     "duration": 0.015239,
     "end_time": "2023-07-06T07:16:37.401317",
     "exception": false,
     "start_time": "2023-07-06T07:16:37.386078",
     "status": "completed"
    },
    "tags": []
   },
   "outputs": [],
   "source": [
    "def extract_features(images):\n",
    "    features = []\n",
    "    for image in images:\n",
    "        # Add your feature extraction code here if needed\n",
    "        # For simplicity, let's flatten the image\n",
    "        features.append(image.flatten())\n",
    "    return features\n"
   ]
  },
  {
   "cell_type": "code",
   "execution_count": 5,
   "id": "7828e777",
   "metadata": {
    "execution": {
     "iopub.execute_input": "2023-07-06T07:16:37.411843Z",
     "iopub.status.busy": "2023-07-06T07:16:37.411417Z",
     "iopub.status.idle": "2023-07-06T07:16:41.312709Z",
     "shell.execute_reply": "2023-07-06T07:16:41.311721Z"
    },
    "papermill": {
     "duration": 3.910517,
     "end_time": "2023-07-06T07:16:41.316125",
     "exception": false,
     "start_time": "2023-07-06T07:16:37.405608",
     "status": "completed"
    },
    "tags": []
   },
   "outputs": [
    {
     "name": "stdout",
     "output_type": "stream",
     "text": [
      "hydra: 122\n",
      "144\n"
     ]
    }
   ],
   "source": [
    "# Load the images and labels\n",
    "hydra_files = glob.glob('/kaggle/input/hydra-paramecium-dataset/micro-dataset/Hydra/*jpg')\n",
    "paramecium_files = glob.glob('/kaggle/input/hydra-paramecium-dataset/micro-dataset/Paramecium/*jpg')\n",
    "print('hydra:',len(hydra_files))\n",
    "print(len(paramecium_files))\n",
    "hydra_images = load_images(hydra_files)\n",
    "paramecium_images = load_images(paramecium_files)\n",
    "\n",
    "if len(hydra_images) == 0 or len(paramecium_images) == 0:\n",
    "    print(\"No images found. Please check your dataset path and image file formats.\")\n",
    "    exit()"
   ]
  },
  {
   "cell_type": "code",
   "execution_count": 6,
   "id": "1d8db270",
   "metadata": {
    "execution": {
     "iopub.execute_input": "2023-07-06T07:16:41.327179Z",
     "iopub.status.busy": "2023-07-06T07:16:41.326170Z",
     "iopub.status.idle": "2023-07-06T07:16:41.363716Z",
     "shell.execute_reply": "2023-07-06T07:16:41.362433Z"
    },
    "papermill": {
     "duration": 0.046426,
     "end_time": "2023-07-06T07:16:41.366861",
     "exception": false,
     "start_time": "2023-07-06T07:16:41.320435",
     "status": "completed"
    },
    "tags": []
   },
   "outputs": [],
   "source": [
    "# Extract features from the images\n",
    "hydra_features = extract_features(hydra_images)\n",
    "paramecium_features = extract_features(paramecium_images)\n",
    "\n",
    "# Create the labels (0 for hydra, 1 for paramecium)\n",
    "hydra_labels = np.zeros(len(hydra_features))\n",
    "paramecium_labels = np.ones(len(paramecium_features))\n",
    "\n",
    "# Combine the features and labels\n",
    "features = np.concatenate((hydra_features, paramecium_features))\n",
    "labels = np.concatenate((hydra_labels, paramecium_labels))\n",
    "\n",
    "# Split the data into training and testing sets\n",
    "X_train, X_test, y_train, y_test = train_test_split(features, labels, test_size=0.2, random_state=42)\n",
    "\n",
    "if len(X_train) == 0 or len(X_test) == 0:\n",
    "    print(\"Insufficient data for training or testing. Please check your dataset size or split ratio.\")\n",
    "    exit()\n"
   ]
  },
  {
   "cell_type": "code",
   "execution_count": 7,
   "id": "694733a1",
   "metadata": {
    "execution": {
     "iopub.execute_input": "2023-07-06T07:16:41.377804Z",
     "iopub.status.busy": "2023-07-06T07:16:41.377041Z",
     "iopub.status.idle": "2023-07-06T07:17:15.700347Z",
     "shell.execute_reply": "2023-07-06T07:17:15.699205Z"
    },
    "papermill": {
     "duration": 34.332028,
     "end_time": "2023-07-06T07:17:15.703298",
     "exception": false,
     "start_time": "2023-07-06T07:16:41.371270",
     "status": "completed"
    },
    "tags": []
   },
   "outputs": [],
   "source": [
    "#adaboost\n",
    "\n",
    "# Initialize the AdaBoost classifier with decision tree as the base estimator\n",
    "base_estimator = DecisionTreeClassifier(max_depth=1)\n",
    "adaboost = AdaBoostClassifier(estimator=base_estimator,learning_rate=0.3, n_estimators=30, random_state=42)\n",
    "\n",
    "# Train the classifier\n",
    "adaboost.fit(X_train, y_train)\n",
    "\n",
    "y_pred_train=adaboost.predict(X_train)\n",
    "# Predict the labels for the test set\n",
    "y_pred = adaboost.predict(X_test)\n",
    "\n"
   ]
  },
  {
   "cell_type": "code",
   "execution_count": 8,
   "id": "9e6574f6",
   "metadata": {
    "execution": {
     "iopub.execute_input": "2023-07-06T07:17:15.714200Z",
     "iopub.status.busy": "2023-07-06T07:17:15.713805Z",
     "iopub.status.idle": "2023-07-06T07:17:15.719848Z",
     "shell.execute_reply": "2023-07-06T07:17:15.718622Z"
    },
    "papermill": {
     "duration": 0.014331,
     "end_time": "2023-07-06T07:17:15.722294",
     "exception": false,
     "start_time": "2023-07-06T07:17:15.707963",
     "status": "completed"
    },
    "tags": []
   },
   "outputs": [],
   "source": [
    "# #XGBoost\n",
    "# # Convert the data to DMatrix format\n",
    "# dtrain = xgb.DMatrix(X_train, label=y_train)\n",
    "# dtest = xgb.DMatrix(X_test, label=y_test)\n",
    "\n",
    "# # Set the XGBoost parameters\n",
    "# params = {\n",
    "#     'max_depth': 4,\n",
    "#     'eta': 0.1,\n",
    "#     'objective': 'binary:logistic',\n",
    "#     'eval_metric': 'error'\n",
    "# }\n",
    "\n",
    "# # Train the XGBoost classifier\n",
    "# num_rounds = 40\n",
    "# xgboost_model = xgb.train(params, dtrain, num_rounds)\n",
    "\n",
    "# # Predict the labels for the test set\n",
    "# # y_pred_train = xgboost_model.predict(dtrain)\n",
    "# # y_pred = np.round(y_pred)  # Convert probabilities to binary predictions\n",
    "# # # Predict the labels for the test set\n",
    "# # y_pred = xgboost_model.predict(dtest)\n",
    "# # y_pred = np.round(y_pred)  # Convert probabilities to binary predictions\n",
    "# y_pred_train = xgboost_model.predict(dtrain)\n",
    "# y_pred_train = np.where(y_pred_train > 0.4, 1, 0)  # Convert probabilities to binary predictions\n",
    "\n",
    "# y_pred = xgboost_model.predict(dtest)\n",
    "# y_pred = np.where(y_pred > 0.4, 1, 0)  # Convert probabilities to binary predictions\n"
   ]
  },
  {
   "cell_type": "code",
   "execution_count": 9,
   "id": "be5852a4",
   "metadata": {
    "execution": {
     "iopub.execute_input": "2023-07-06T07:17:15.734694Z",
     "iopub.status.busy": "2023-07-06T07:17:15.734273Z",
     "iopub.status.idle": "2023-07-06T07:17:15.757178Z",
     "shell.execute_reply": "2023-07-06T07:17:15.755712Z"
    },
    "papermill": {
     "duration": 0.033386,
     "end_time": "2023-07-06T07:17:15.759935",
     "exception": false,
     "start_time": "2023-07-06T07:17:15.726549",
     "status": "completed"
    },
    "tags": []
   },
   "outputs": [
    {
     "name": "stdout",
     "output_type": "stream",
     "text": [
      "Train Accuracy: 97.64%\n",
      "Test Accuracy: 81.48%\n",
      "Test f1score: 80.77%\n",
      "              precision    recall  f1-score   support\n",
      "\n",
      "       hydra       0.79      0.85      0.82        27\n",
      "  paramecium       0.84      0.78      0.81        27\n",
      "\n",
      "    accuracy                           0.81        54\n",
      "   macro avg       0.82      0.81      0.81        54\n",
      "weighted avg       0.82      0.81      0.81        54\n",
      "\n"
     ]
    }
   ],
   "source": [
    "# Calculate accuracy score\n",
    "accuracy = accuracy_score(y_train, y_pred_train)\n",
    "print(\"Train Accuracy: {:.2f}%\".format(accuracy * 100))\n",
    "# Calculate accuracy score\n",
    "accuracy = accuracy_score(y_test, y_pred)\n",
    "print(\"Test Accuracy: {:.2f}%\".format(accuracy * 100))\n",
    "\n",
    "# Calculate f1 score\n",
    "f1score = f1_score(y_test, y_pred)\n",
    "print(\"Test f1score: {:.2f}%\".format(f1score * 100))\n",
    "\n",
    "# Print classification report\n",
    "target_names = ['hydra', 'paramecium']\n",
    "print(classification_report(y_test, y_pred, target_names=target_names))\n"
   ]
  }
 ],
 "metadata": {
  "kernelspec": {
   "display_name": "Python 3",
   "language": "python",
   "name": "python3"
  },
  "language_info": {
   "codemirror_mode": {
    "name": "ipython",
    "version": 3
   },
   "file_extension": ".py",
   "mimetype": "text/x-python",
   "name": "python",
   "nbconvert_exporter": "python",
   "pygments_lexer": "ipython3",
   "version": "3.10.10"
  },
  "papermill": {
   "default_parameters": {},
   "duration": 55.86385,
   "end_time": "2023-07-06T07:17:16.888711",
   "environment_variables": {},
   "exception": null,
   "input_path": "__notebook__.ipynb",
   "output_path": "__notebook__.ipynb",
   "parameters": {},
   "start_time": "2023-07-06T07:16:21.024861",
   "version": "2.4.0"
  }
 },
 "nbformat": 4,
 "nbformat_minor": 5
}
