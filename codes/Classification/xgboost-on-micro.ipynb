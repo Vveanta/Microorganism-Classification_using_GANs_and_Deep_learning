{
 "cells": [
  {
   "cell_type": "code",
   "execution_count": 1,
   "id": "648483bd",
   "metadata": {
    "_cell_guid": "b1076dfc-b9ad-4769-8c92-a6c4dae69d19",
    "_uuid": "8f2839f25d086af736a60e9eeb907d3b93b6e0e5",
    "execution": {
     "iopub.execute_input": "2023-07-06T07:21:25.693777Z",
     "iopub.status.busy": "2023-07-06T07:21:25.692676Z",
     "iopub.status.idle": "2023-07-06T07:21:29.407091Z",
     "shell.execute_reply": "2023-07-06T07:21:29.405973Z"
    },
    "papermill": {
     "duration": 3.723034,
     "end_time": "2023-07-06T07:21:29.409782",
     "exception": false,
     "start_time": "2023-07-06T07:21:25.686748",
     "status": "completed"
    },
    "tags": []
   },
   "outputs": [],
   "source": [
    "import numpy as np\n",
    "from sklearn.ensemble import AdaBoostClassifier\n",
    "import xgboost as xgb\n",
    "from sklearn.tree import DecisionTreeClassifier\n",
    "from sklearn.model_selection import train_test_split\n",
    "from sklearn.metrics import accuracy_score, classification_report, f1_score\n",
    "from sklearn.preprocessing import LabelEncoder\n",
    "import glob\n",
    "import cv2\n"
   ]
  },
  {
   "cell_type": "code",
   "execution_count": 2,
   "id": "c9eee23b",
   "metadata": {
    "execution": {
     "iopub.execute_input": "2023-07-06T07:21:29.420146Z",
     "iopub.status.busy": "2023-07-06T07:21:29.418497Z",
     "iopub.status.idle": "2023-07-06T07:21:29.424183Z",
     "shell.execute_reply": "2023-07-06T07:21:29.423343Z"
    },
    "papermill": {
     "duration": 0.012645,
     "end_time": "2023-07-06T07:21:29.426258",
     "exception": false,
     "start_time": "2023-07-06T07:21:29.413613",
     "status": "completed"
    },
    "tags": []
   },
   "outputs": [],
   "source": [
    "# Set the path to your dataset directory\n",
    "dataset_path = '/kaggle/input/hydra-paramecium-dataset/micro-dataset'"
   ]
  },
  {
   "cell_type": "code",
   "execution_count": 3,
   "id": "239ac177",
   "metadata": {
    "execution": {
     "iopub.execute_input": "2023-07-06T07:21:29.435331Z",
     "iopub.status.busy": "2023-07-06T07:21:29.433947Z",
     "iopub.status.idle": "2023-07-06T07:21:29.440518Z",
     "shell.execute_reply": "2023-07-06T07:21:29.439673Z"
    },
    "papermill": {
     "duration": 0.012862,
     "end_time": "2023-07-06T07:21:29.442604",
     "exception": false,
     "start_time": "2023-07-06T07:21:29.429742",
     "status": "completed"
    },
    "tags": []
   },
   "outputs": [],
   "source": [
    "# Function to load and preprocess images\n",
    "def load_images(file_paths):\n",
    "    images = []\n",
    "    for path in file_paths:\n",
    "        image = cv2.imread(path)\n",
    "        if image is not None:\n",
    "            image = cv2.resize(image, (128, 128))  # Resize the images to 128x128 pixels\n",
    "            images.append(image)\n",
    "        else:\n",
    "            print(f\"Unable to load image: {path}\")\n",
    "    return images"
   ]
  },
  {
   "cell_type": "code",
   "execution_count": 4,
   "id": "b93c2951",
   "metadata": {
    "execution": {
     "iopub.execute_input": "2023-07-06T07:21:29.451132Z",
     "iopub.status.busy": "2023-07-06T07:21:29.450230Z",
     "iopub.status.idle": "2023-07-06T07:21:29.455719Z",
     "shell.execute_reply": "2023-07-06T07:21:29.454758Z"
    },
    "papermill": {
     "duration": 0.012014,
     "end_time": "2023-07-06T07:21:29.457922",
     "exception": false,
     "start_time": "2023-07-06T07:21:29.445908",
     "status": "completed"
    },
    "tags": []
   },
   "outputs": [],
   "source": [
    "def extract_features(images):\n",
    "    features = []\n",
    "    for image in images:\n",
    "        # Add your feature extraction code here if needed\n",
    "        # For simplicity, let's flatten the image\n",
    "        features.append(image.flatten())\n",
    "    return features\n"
   ]
  },
  {
   "cell_type": "code",
   "execution_count": 5,
   "id": "88f5f017",
   "metadata": {
    "execution": {
     "iopub.execute_input": "2023-07-06T07:21:29.466909Z",
     "iopub.status.busy": "2023-07-06T07:21:29.465390Z",
     "iopub.status.idle": "2023-07-06T07:21:34.209861Z",
     "shell.execute_reply": "2023-07-06T07:21:34.208795Z"
    },
    "papermill": {
     "duration": 4.751425,
     "end_time": "2023-07-06T07:21:34.212622",
     "exception": false,
     "start_time": "2023-07-06T07:21:29.461197",
     "status": "completed"
    },
    "tags": []
   },
   "outputs": [
    {
     "name": "stdout",
     "output_type": "stream",
     "text": [
      "hydra: 122\n",
      "144\n"
     ]
    }
   ],
   "source": [
    "# Load the images and labels\n",
    "hydra_files = glob.glob('/kaggle/input/hydra-paramecium-dataset/micro-dataset/Hydra/*jpg')\n",
    "paramecium_files = glob.glob('/kaggle/input/hydra-paramecium-dataset/micro-dataset/Paramecium/*jpg')\n",
    "print('hydra:',len(hydra_files))\n",
    "print(len(paramecium_files))\n",
    "hydra_images = load_images(hydra_files)\n",
    "paramecium_images = load_images(paramecium_files)\n",
    "\n",
    "if len(hydra_images) == 0 or len(paramecium_images) == 0:\n",
    "    print(\"No images found. Please check your dataset path and image file formats.\")\n",
    "    exit()"
   ]
  },
  {
   "cell_type": "code",
   "execution_count": 6,
   "id": "0d8213af",
   "metadata": {
    "execution": {
     "iopub.execute_input": "2023-07-06T07:21:34.222122Z",
     "iopub.status.busy": "2023-07-06T07:21:34.221387Z",
     "iopub.status.idle": "2023-07-06T07:21:34.251914Z",
     "shell.execute_reply": "2023-07-06T07:21:34.250891Z"
    },
    "papermill": {
     "duration": 0.037922,
     "end_time": "2023-07-06T07:21:34.254624",
     "exception": false,
     "start_time": "2023-07-06T07:21:34.216702",
     "status": "completed"
    },
    "tags": []
   },
   "outputs": [],
   "source": [
    "# Extract features from the images\n",
    "hydra_features = extract_features(hydra_images)\n",
    "paramecium_features = extract_features(paramecium_images)\n",
    "\n",
    "# Create the labels (0 for hydra, 1 for paramecium)\n",
    "hydra_labels = np.zeros(len(hydra_features))\n",
    "paramecium_labels = np.ones(len(paramecium_features))\n",
    "\n",
    "# Combine the features and labels\n",
    "features = np.concatenate((hydra_features, paramecium_features))\n",
    "labels = np.concatenate((hydra_labels, paramecium_labels))\n",
    "\n",
    "# Split the data into training and testing sets\n",
    "X_train, X_test, y_train, y_test = train_test_split(features, labels, test_size=0.2, random_state=42)\n",
    "\n",
    "if len(X_train) == 0 or len(X_test) == 0:\n",
    "    print(\"Insufficient data for training or testing. Please check your dataset size or split ratio.\")\n",
    "    exit()\n"
   ]
  },
  {
   "cell_type": "code",
   "execution_count": 7,
   "id": "e1c2b7e5",
   "metadata": {
    "execution": {
     "iopub.execute_input": "2023-07-06T07:21:34.266118Z",
     "iopub.status.busy": "2023-07-06T07:21:34.265765Z",
     "iopub.status.idle": "2023-07-06T07:21:34.270543Z",
     "shell.execute_reply": "2023-07-06T07:21:34.269543Z"
    },
    "papermill": {
     "duration": 0.012316,
     "end_time": "2023-07-06T07:21:34.272685",
     "exception": false,
     "start_time": "2023-07-06T07:21:34.260369",
     "status": "completed"
    },
    "tags": []
   },
   "outputs": [],
   "source": [
    "# #adaboost\n",
    "\n",
    "# # Initialize the AdaBoost classifier with decision tree as the base estimator\n",
    "# base_estimator = DecisionTreeClassifier(max_depth=1)\n",
    "# adaboost = AdaBoostClassifier(estimator=base_estimator,learning_rate=0.3, n_estimators=30, random_state=42)\n",
    "\n",
    "# # Train the classifier\n",
    "# adaboost.fit(X_train, y_train)\n",
    "\n",
    "# y_pred_train=adaboost.predict(X_train)\n",
    "# # Predict the labels for the test set\n",
    "# y_pred = adaboost.predict(X_test)\n",
    "\n"
   ]
  },
  {
   "cell_type": "code",
   "execution_count": 8,
   "id": "0aa3a827",
   "metadata": {
    "execution": {
     "iopub.execute_input": "2023-07-06T07:21:34.282364Z",
     "iopub.status.busy": "2023-07-06T07:21:34.281376Z",
     "iopub.status.idle": "2023-07-06T07:22:16.518942Z",
     "shell.execute_reply": "2023-07-06T07:22:16.518137Z"
    },
    "papermill": {
     "duration": 42.245178,
     "end_time": "2023-07-06T07:22:16.521566",
     "exception": false,
     "start_time": "2023-07-06T07:21:34.276388",
     "status": "completed"
    },
    "tags": []
   },
   "outputs": [],
   "source": [
    "#XGBoost\n",
    "# Convert the data to DMatrix format\n",
    "dtrain = xgb.DMatrix(X_train, label=y_train)\n",
    "dtest = xgb.DMatrix(X_test, label=y_test)\n",
    "\n",
    "# Set the XGBoost parameters\n",
    "params = {\n",
    "    'max_depth': 4,\n",
    "    'eta': 0.1,\n",
    "    'objective': 'binary:logistic',\n",
    "    'eval_metric': 'error'\n",
    "}\n",
    "\n",
    "# Train the XGBoost classifier\n",
    "num_rounds = 40\n",
    "xgboost_model = xgb.train(params, dtrain, num_rounds)\n",
    "\n",
    "# Predict the labels for the test set\n",
    "# y_pred_train = xgboost_model.predict(dtrain)\n",
    "# y_pred = np.round(y_pred)  # Convert probabilities to binary predictions\n",
    "# # Predict the labels for the test set\n",
    "# y_pred = xgboost_model.predict(dtest)\n",
    "# y_pred = np.round(y_pred)  # Convert probabilities to binary predictions\n",
    "y_pred_train = xgboost_model.predict(dtrain)\n",
    "y_pred_train = np.where(y_pred_train > 0.4, 1, 0)  # Convert probabilities to binary predictions\n",
    "\n",
    "y_pred = xgboost_model.predict(dtest)\n",
    "y_pred = np.where(y_pred > 0.4, 1, 0)  # Convert probabilities to binary predictions\n"
   ]
  },
  {
   "cell_type": "code",
   "execution_count": 9,
   "id": "54db52a6",
   "metadata": {
    "execution": {
     "iopub.execute_input": "2023-07-06T07:22:16.531817Z",
     "iopub.status.busy": "2023-07-06T07:22:16.530924Z",
     "iopub.status.idle": "2023-07-06T07:22:16.553124Z",
     "shell.execute_reply": "2023-07-06T07:22:16.551607Z"
    },
    "papermill": {
     "duration": 0.029695,
     "end_time": "2023-07-06T07:22:16.555566",
     "exception": false,
     "start_time": "2023-07-06T07:22:16.525871",
     "status": "completed"
    },
    "tags": []
   },
   "outputs": [
    {
     "name": "stdout",
     "output_type": "stream",
     "text": [
      "Train Accuracy: 100.00%\n",
      "Test Accuracy: 75.93%\n",
      "Test f1: 76.36%\n",
      "              precision    recall  f1-score   support\n",
      "\n",
      "       hydra       0.77      0.74      0.75        27\n",
      "  paramecium       0.75      0.78      0.76        27\n",
      "\n",
      "    accuracy                           0.76        54\n",
      "   macro avg       0.76      0.76      0.76        54\n",
      "weighted avg       0.76      0.76      0.76        54\n",
      "\n"
     ]
    }
   ],
   "source": [
    "# Calculate accuracy score\n",
    "accuracy = accuracy_score(y_train, y_pred_train)\n",
    "print(\"Train Accuracy: {:.2f}%\".format(accuracy * 100))\n",
    "# Calculate accuracy score\n",
    "accuracy = accuracy_score(y_test, y_pred)\n",
    "print(\"Test Accuracy: {:.2f}%\".format(accuracy * 100))\n",
    "\n",
    "f1score = f1_score(y_test, y_pred)\n",
    "print(\"Test f1: {:.2f}%\".format(f1score * 100))\n",
    "\n",
    "# Print classification report\n",
    "target_names = ['hydra', 'paramecium']\n",
    "print(classification_report(y_test, y_pred, target_names=target_names))\n"
   ]
  }
 ],
 "metadata": {
  "kernelspec": {
   "display_name": "Python 3",
   "language": "python",
   "name": "python3"
  },
  "language_info": {
   "codemirror_mode": {
    "name": "ipython",
    "version": 3
   },
   "file_extension": ".py",
   "mimetype": "text/x-python",
   "name": "python",
   "nbconvert_exporter": "python",
   "pygments_lexer": "ipython3",
   "version": "3.10.10"
  },
  "papermill": {
   "default_parameters": {},
   "duration": 67.693444,
   "end_time": "2023-07-06T07:22:17.480184",
   "environment_variables": {},
   "exception": null,
   "input_path": "__notebook__.ipynb",
   "output_path": "__notebook__.ipynb",
   "parameters": {},
   "start_time": "2023-07-06T07:21:09.786740",
   "version": "2.4.0"
  }
 },
 "nbformat": 4,
 "nbformat_minor": 5
}
